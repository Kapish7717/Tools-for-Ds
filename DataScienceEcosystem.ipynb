{
 "cells": [
  {
   "cell_type": "markdown",
   "id": "90231e5f-840a-49a5-831c-c87d8963d127",
   "metadata": {},
   "source": [
    "# Notebook"
   ]
  },
  {
   "cell_type": "markdown",
   "id": "4589f6b6-8991-4c3a-836b-bacb4a0da9d0",
   "metadata": {},
   "source": [
    "In this notebook, Data Science Tools and Ecosystems are summarized."
   ]
  },
  {
   "cell_type": "markdown",
   "id": "5d6ae258-b8b0-43e5-9b58-0344ff078e5d",
   "metadata": {},
   "source": [
    "**Objectives:**\n",
    "\n",
    "- List popular languages for Data Science\n",
    "- Identify key tools used in Data Science\n",
    "- Understand the basics of Jupyter Notebook\n",
    "- Learn about common libraries for Data Science\n",
    "- Perform basic data manipulation tasks"
   ]
  },
  {
   "cell_type": "markdown",
   "id": "965e8e94-c03a-418b-b2b4-22ceac4fbc80",
   "metadata": {},
   "source": [
    "Some of the popular languages that Data Scientists use are:\n",
    "1. Python\n",
    "2. R\n",
    "3. SQL"
   ]
  },
  {
   "cell_type": "markdown",
   "id": "3cb0947a-5d43-49d4-8935-2774e0a778a4",
   "metadata": {},
   "source": [
    "Some of the commonly used libraries used by Data Scientist include:\n",
    "1. Pandas\n",
    "2. Numpy\n",
    "3. ggplot2"
   ]
  },
  {
   "cell_type": "markdown",
   "id": "e036d675-e2eb-4608-b55e-3cc0ae057d69",
   "metadata": {},
   "source": [
    "|Data Science Tools|\n",
    "|------------------|\n",
    "| Python |\n",
    "| SQL |\n",
    "| Julia |"
   ]
  },
  {
   "cell_type": "markdown",
   "id": "3c56437c-f4b0-4f5f-9ce4-c36cd4d970c7",
   "metadata": {},
   "source": [
    "### below are a few examples of evaluating arithmetic expressions in Python"
   ]
  },
  {
   "cell_type": "code",
   "execution_count": 6,
   "id": "8b1dba6e-d9df-4069-a407-5f3176e09972",
   "metadata": {},
   "outputs": [
    {
     "data": {
      "text/plain": [
       "17"
      ]
     },
     "execution_count": 6,
     "metadata": {},
     "output_type": "execute_result"
    }
   ],
   "source": [
    "#This is a simple arithmetic expression to multiply 3 and 4 then add 5 to it\n",
    "(3*4) + 5"
   ]
  },
  {
   "cell_type": "code",
   "execution_count": 8,
   "id": "190d765b-e1b5-43ac-88f3-dd7706053987",
   "metadata": {},
   "outputs": [
    {
     "data": {
      "text/plain": [
       "3.3333333333333335"
      ]
     },
     "execution_count": 8,
     "metadata": {},
     "output_type": "execute_result"
    }
   ],
   "source": [
    "#This will convert 200 minutes to hours by dividing by 60\n",
    "hours = 200/60\n",
    "hours"
   ]
  },
  {
   "cell_type": "markdown",
   "id": "adbd72d2-96d2-4bf5-aa9f-bcc56de910bd",
   "metadata": {},
   "source": [
    "## Author\n",
    "Kapish Sharma"
   ]
  },
  {
   "cell_type": "code",
   "execution_count": null,
   "id": "9d0d1aa8-876e-43a0-9e83-4d4684d59b18",
   "metadata": {},
   "outputs": [],
   "source": []
  }
 ],
 "metadata": {
  "kernelspec": {
   "display_name": "Python 3 (ipykernel)",
   "language": "python",
   "name": "python3"
  },
  "language_info": {
   "codemirror_mode": {
    "name": "ipython",
    "version": 3
   },
   "file_extension": ".py",
   "mimetype": "text/x-python",
   "name": "python",
   "nbconvert_exporter": "python",
   "pygments_lexer": "ipython3",
   "version": "3.12.8"
  }
 },
 "nbformat": 4,
 "nbformat_minor": 5
}
